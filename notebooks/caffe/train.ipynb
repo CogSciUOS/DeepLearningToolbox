{
 "cells": [
  {
   "cell_type": "code",
   "execution_count": 1,
   "metadata": {
    "collapsed": true
   },
   "outputs": [],
   "source": [
    "import caffe\n",
    "caffe.set_mode_cpu()\n",
    "import numpy as np\n",
    "import matplotlib.pyplot as plt\n",
    "plt.rcParams['image.cmap'] = 'gray'\n",
    "%matplotlib inline"
   ]
  },
  {
   "cell_type": "markdown",
   "metadata": {},
   "source": [
    "In Caffe models get specified in separate protobuf files.\n"
   ]
  },
  {
   "cell_type": "raw",
   "metadata": {},
   "source": [
    "# %load example_caffe_mnist_model.prototxt\n",
    "name: \"ExampleCaffeMNISTModel\"\n",
    "layer {\n",
    "  name: \"data\"\n",
    "  type: \"Data\"\n",
    "  top: \"data\"\n",
    "  top: \"label\"\n",
    "  transform_param {\n",
    "    scale: 0.00392156862745\n",
    "  }\n",
    "  data_param {\n",
    "    source: \"/work/rbusche/datasets/mnist/mnist_train_lmdb\"\n",
    "    batch_size: 64\n",
    "    backend: LMDB\n",
    "  }\n",
    "}\n",
    "layer {\n",
    "  name: \"conv2d_1\"\n",
    "  type: \"Convolution\"\n",
    "  bottom: \"data\"\n",
    "  top: \"conv2d_1\"\n",
    "  convolution_param {\n",
    "    num_output: 32\n",
    "    kernel_size: 3\n",
    "    stride: 1\n",
    "    weight_filler {\n",
    "      type: \"gaussian\" # initialize the filters from a Gaussian\n",
    "      std: 0.01        # distribution with stdev 0.01 (default mean: 0)\n",
    "    }\n",
    "    bias_filler {\n",
    "      type: \"constant\"\n",
    "      value: 0\n",
    "    }\n",
    "  }\n",
    "}\n",
    "layer {\n",
    "  name: \"relu1\"\n",
    "  type: \"ReLU\"\n",
    "  bottom: \"conv2d_1\"\n",
    "  top: \"conv2d_1\" # inplace computation\n",
    "}\n",
    "layer {\n",
    "  name: \"max_pooling2d_1\"\n",
    "  type: \"Pooling\"\n",
    "  bottom: \"conv2d_1\"\n",
    "  top: \"max_pooling2d_1\"\n",
    "  pooling_param {\n",
    "    pool: MAX\n",
    "    kernel_size: 3\n",
    "    stride: 2\n",
    "  }\n",
    "}\n",
    "layer {\n",
    "  name: \"conv2d_2\"\n",
    "  type: \"Convolution\"\n",
    "  bottom: \"max_pooling2d_1\"\n",
    "  top: \"conv2d_2\"\n",
    "  convolution_param {\n",
    "    num_output: 32\n",
    "    kernel_size: 3\n",
    "    stride: 1\n",
    "    weight_filler {\n",
    "      type: \"gaussian\" # initialize the filters from a Gaussian\n",
    "      std: 0.01        # distribution with stdev 0.01 (default mean: 0)\n",
    "    }\n",
    "    bias_filler {\n",
    "      type: \"constant\"\n",
    "      value: 0\n",
    "    }\n",
    "  }\n",
    "}\n",
    "layer {\n",
    "  name: \"relu2\"\n",
    "  type: \"ReLU\"\n",
    "  bottom: \"conv2d_2\"\n",
    "  top: \"conv2d_2\" # inplace computation\n",
    "}\n",
    "layer {\n",
    "  name: \"dropout_1\"\n",
    "  type: \"Dropout\"\n",
    "  bottom: \"conv2d_2\"\n",
    "  top: \"dropout_1\"\n",
    "}\n",
    "layer {\n",
    "  name: \"dense_1\"\n",
    "  type: \"InnerProduct\"\n",
    "    inner_product_param {\n",
    "    num_output: 64\n",
    "    weight_filler {\n",
    "      type: \"gaussian\"\n",
    "      std: 0.01\n",
    "    }\n",
    "    bias_filler {\n",
    "      type: \"constant\"\n",
    "      value: 0\n",
    "    }\n",
    "  }\n",
    "  bottom: \"dropout_1\"\n",
    "  top: \"dense_1\"\n",
    "}\n",
    "layer {\n",
    "  name: \"relu3\"\n",
    "  type: \"ReLU\"\n",
    "  bottom: \"dense_1\"\n",
    "  top: \"dense_1\" # inplace computation\n",
    "}\n",
    "layer {\n",
    "  name: \"dropout_2\"\n",
    "  type: \"Dropout\"\n",
    "  bottom: \"dense_1\"\n",
    "  top: \"dropout_2\"\n",
    "}\n",
    "layer {\n",
    "  name: \"dense_2\"\n",
    "  type: \"InnerProduct\"\n",
    "    inner_product_param {\n",
    "    num_output: 10\n",
    "    weight_filler {\n",
    "      type: \"gaussian\"\n",
    "      std: 0.01\n",
    "    }\n",
    "    bias_filler {\n",
    "      type: \"constant\"\n",
    "      value: 0\n",
    "    }\n",
    "  }\n",
    "\n",
    "  bottom: \"dropout_2\"\n",
    "  top: \"dense_2\"\n",
    "}\n",
    "layer {\n",
    "  name: \"loss\"\n",
    "  type: \"SoftmaxWithLoss\"\n",
    "  bottom: \"dense_2\"\n",
    "  bottom: \"label\"\n",
    "  top: \"loss\"\n",
    "}\n"
   ]
  },
  {
   "cell_type": "markdown",
   "metadata": {},
   "source": [
    "Additionally a solver has to be specified, that determines training parameters."
   ]
  },
  {
   "cell_type": "raw",
   "metadata": {},
   "source": [
    "# %load mnist_solver.prototxt\n",
    "# The train/test net protocol buffer definition\n",
    "net: \"example_network.prototxt\"\n",
    "# test_iter specifies how many forward passes the test should carry out.\n",
    "# In the case of MNIST, we have test batch size 100 and 100 test iterations,\n",
    "# covering the full 10,000 testing images.\n",
    "test_iter: 100\n",
    "# Carry out testing every 500 training iterations.\n",
    "test_interval: 500\n",
    "# The base learning rate, momentum and the weight decay of the network.\n",
    "base_lr: 0.01\n",
    "momentum: 0.9\n",
    "weight_decay: 0.0005\n",
    "# The learning rate policy\n",
    "lr_policy: \"inv\"\n",
    "gamma: 0.0001\n",
    "power: 0.75\n",
    "# Display every 100 iterations\n",
    "display: 100\n",
    "# The maximum number of iterations\n",
    "max_iter: 10000\n",
    "# solver mode: CPU or GPU\n",
    "solver_mode: CPU\n"
   ]
  },
  {
   "cell_type": "markdown",
   "metadata": {},
   "source": [
    "Instantiate the solver and train the network."
   ]
  },
  {
   "cell_type": "code",
   "execution_count": 3,
   "metadata": {},
   "outputs": [
    {
     "data": {
      "text/plain": [
       "{'loss': array(2.3025808334350586, dtype=float32)}"
      ]
     },
     "execution_count": 3,
     "metadata": {},
     "output_type": "execute_result"
    }
   ],
   "source": [
    "solver = caffe.SGDSolver('mnist_solver.prototxt')\n",
    "solver.net.forward()"
   ]
  },
  {
   "cell_type": "code",
   "execution_count": 8,
   "metadata": {},
   "outputs": [
    {
     "name": "stdout",
     "output_type": "stream",
     "text": [
      "Iteration 0 testing...\n",
      "Iteration 100 testing...\n",
      "Iteration 200 testing...\n",
      "Iteration 300 testing...\n",
      "Iteration 400 testing...\n",
      "Iteration 500 testing...\n",
      "Iteration 600 testing...\n",
      "Iteration 700 testing...\n",
      "Iteration 800 testing...\n",
      "Iteration 900 testing...\n",
      "Iteration 1000 testing...\n",
      "Iteration 1100 testing...\n",
      "Iteration 1200 testing...\n",
      "Iteration 1300 testing...\n",
      "Iteration 1400 testing...\n",
      "Iteration 1500 testing...\n",
      "Iteration 1600 testing...\n",
      "Iteration 1700 testing...\n",
      "Iteration 1800 testing...\n",
      "Iteration 1900 testing...\n",
      "Iteration 2000 testing...\n",
      "Iteration 2100 testing...\n",
      "Iteration 2200 testing...\n",
      "Iteration 2300 testing...\n",
      "Iteration 2400 testing...\n"
     ]
    }
   ],
   "source": [
    "niter = 2500\n",
    "test_interval = 100\n",
    "# losses will also be stored in the log\n",
    "train_loss = np.zeros(niter)\n",
    "test_acc = np.zeros(int(np.ceil(niter / test_interval)))\n",
    "output = np.zeros((niter, 8, 10))\n",
    "\n",
    "# the main solver loop\n",
    "for it in range(niter):\n",
    "    solver.step(1)  # SGD by Caffe\n",
    "    \n",
    "    # store the train loss\n",
    "    train_loss[it] = solver.net.blobs['loss'].data\n",
    "    \n",
    "    # store the output on the first test batch\n",
    "    # (start the forward pass at conv1 to avoid loading new data)\n",
    "    solver.test_nets[0].forward(start='conv2d_1')\n",
    "    output[it] = solver.test_nets[0].blobs['dense_2'].data[:8]\n",
    "    \n",
    "    # run a full test every so often\n",
    "    # (Caffe can also do this for us and write to a log, but we show here\n",
    "    #  how to do it directly in Python, where more complicated things are easier.)\n",
    "    if it % test_interval == 0:\n",
    "        print ('Iteration', it, 'testing...')\n",
    "        correct = 0\n",
    "        test_iter = 100\n",
    "        for test_it in range(test_iter):\n",
    "            solver.test_nets[0].forward()\n",
    "            correct += sum(solver.test_nets[0].blobs['dense_2'].data.argmax(1)\n",
    "                           == solver.test_nets[0].blobs['label'].data)\n",
    "        test_acc[it // test_interval] = correct / (64 * test_iter)"
   ]
  },
  {
   "cell_type": "code",
   "execution_count": 9,
   "metadata": {},
   "outputs": [
    {
     "data": {
      "text/plain": [
       "<matplotlib.text.Text at 0x7f3b4a639240>"
      ]
     },
     "execution_count": 9,
     "metadata": {},
     "output_type": "execute_result"
    },
    {
     "data": {
      "image/png": "[encoded data removed]",
      "text/plain": [
       "<matplotlib.figure.Figure at 0x7f3b4a87bc18>"
      ]
     },
     "metadata": {},
     "output_type": "display_data"
    }
   ],
   "source": [
    "_, ax1 = plt.subplots()\n",
    "ax2 = ax1.twinx()\n",
    "ax1.plot(np.arange(niter), train_loss)\n",
    "ax2.plot(test_interval * np.arange(len(test_acc)), test_acc, 'r')\n",
    "ax1.set_xlabel('iteration')\n",
    "ax1.set_ylabel('train loss')\n",
    "ax2.set_ylabel('test accuracy')\n",
    "ax2.set_title('Test Accuracy: {:.2f}'.format(test_acc[-1]))"
   ]
  },
  {
   "cell_type": "markdown",
   "metadata": {},
   "source": [
    "The weights are saved in a `.caffemodel` file."
   ]
  },
  {
   "cell_type": "code",
   "execution_count": 11,
   "metadata": {
    "collapsed": true
   },
   "outputs": [],
   "source": [
    "solver.net.save('mnist.caffemodel')"
   ]
  }
 ],
 "metadata": {
  "kernelspec": {
   "display_name": "Python 3",
   "language": "python",
   "name": "python3"
  },
  "language_info": {
   "codemirror_mode": {
    "name": "ipython",
    "version": 3
   },
   "file_extension": ".py",
   "mimetype": "text/x-python",
   "name": "python",
   "nbconvert_exporter": "python",
   "pygments_lexer": "ipython3",
   "version": "3.6.2"
  }
 },
 "nbformat": 4,
 "nbformat_minor": 2
}
