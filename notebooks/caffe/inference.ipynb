{
 "cells": [
  {
   "cell_type": "code",
   "execution_count": 1,
   "metadata": {},
   "outputs": [
    {
     "name": "stderr",
     "output_type": "stream",
     "text": [
      "Using TensorFlow backend.\n"
     ]
    }
   ],
   "source": [
    "import caffe\n",
    "caffe.set_mode_cpu()\n",
    "import numpy as np\n",
    "import matplotlib.pyplot as plt\n",
    "plt.rcParams['image.cmap'] = 'gray'\n",
    "%matplotlib inline\n",
    "from keras.datasets import mnist\n"
   ]
  },
  {
   "cell_type": "markdown",
   "metadata": {},
   "source": [
    "Preprocess dataset."
   ]
  },
  {
   "cell_type": "code",
   "execution_count": 2,
   "metadata": {},
   "outputs": [
    {
     "data": {
      "text/plain": [
       "<matplotlib.image.AxesImage at 0x7fcfbf6daac8>"
      ]
     },
     "execution_count": 2,
     "metadata": {},
     "output_type": "execute_result"
    },
    {
     "data": {
      "image/png": "[encoded data removed]",
      "text/plain": [
       "<matplotlib.figure.Figure at 0x7fcfdcf66908>"
      ]
     },
     "metadata": {},
     "output_type": "display_data"
    }
   ],
   "source": [
    "data = mnist.load_data()[1][0]\n",
    "# Normalize data.\n",
    "data = data / data.max()\n",
    "plt.imshow(data[0, :, :])"
   ]
  },
  {
   "cell_type": "markdown",
   "metadata": {},
   "source": [
    "Reshape the data so it fits into the caffe net."
   ]
  },
  {
   "cell_type": "code",
   "execution_count": 3,
   "metadata": {},
   "outputs": [
    {
     "name": "stdout",
     "output_type": "stream",
     "text": [
      "(28, 28)\n",
      "(1, 28, 28)\n"
     ]
    }
   ],
   "source": [
    "seven = data[0, :, :]\n",
    "print(seven.shape)\n",
    "seven = seven[np.newaxis, ...]\n",
    "print(seven.shape)\n"
   ]
  },
  {
   "cell_type": "markdown",
   "metadata": {},
   "source": [
    "In Caffe the inference model is often seperate from the model for training and suffixed wit `_deploy`. It ususally has an `Input layer` that can be freely filled with data, instead of a `Data layer` with a fixed dataset."
   ]
  },
  {
   "cell_type": "raw",
   "metadata": {},
   "source": [
    "# %load example_caffe_mnist_model_deploy.prototxt\n",
    "name: \"ExampleCaffeMNISTModelDeploy\"\n",
    "layer {\n",
    "  name: \"data\"\n",
    "  type: \"Input\"\n",
    "  top: \"data\"\n",
    "  input_param {\n",
    "    shape: {\n",
    "      dim: 64\n",
    "      dim: 1\n",
    "      dim: 28\n",
    "      dim: 28\n",
    "    }\n",
    "  }\n",
    "}\n",
    "layer {\n",
    "  name: \"conv2d_1\"\n",
    "  type: \"Convolution\"\n",
    "  bottom: \"data\"\n",
    "  top: \"conv2d_1\"\n",
    "  convolution_param {\n",
    "    num_output: 32\n",
    "    kernel_size: 3\n",
    "    stride: 1\n",
    "\n",
    "  }\n",
    "}\n",
    "layer {\n",
    "  name: \"relu_1\"\n",
    "  type: \"ReLU\"\n",
    "  bottom: \"conv2d_1\"\n",
    "  top: \"conv2d_1\" # inplace computation\n",
    "}\n",
    "layer {\n",
    "  name: \"max_pooling2d_1\"\n",
    "  type: \"Pooling\"\n",
    "  bottom: \"conv2d_1\"\n",
    "  top: \"max_pooling2d_1\"\n",
    "  pooling_param {\n",
    "    pool: MAX\n",
    "    kernel_size: 3\n",
    "    stride: 2\n",
    "  }\n",
    "}\n",
    "layer {\n",
    "  name: \"conv2d_2\"\n",
    "  type: \"Convolution\"\n",
    "  bottom: \"max_pooling2d_1\"\n",
    "  top: \"conv2d_2\"\n",
    "  convolution_param {\n",
    "    num_output: 32\n",
    "    kernel_size: 3\n",
    "    stride: 1\n",
    "\n",
    "  }\n",
    "}\n",
    "layer {\n",
    "  name: \"relu_2\"\n",
    "  type: \"ReLU\"\n",
    "  bottom: \"conv2d_2\"\n",
    "  top: \"conv2d_2\" # inplace computation\n",
    "}\n",
    "\n",
    "layer {\n",
    "  name: \"dropout_1\"\n",
    "  type: \"Dropout\"\n",
    "  bottom: \"conv2d_2\"\n",
    "  top: \"dropout_1\"\n",
    "}\n",
    "\n",
    "layer {\n",
    "  name: \"dense_1\"\n",
    "  type: \"InnerProduct\"\n",
    "    inner_product_param {\n",
    "    num_output: 64\n",
    "\n",
    "  }\n",
    "  bottom: \"dropout_1\"\n",
    "  top: \"dense_1\"\n",
    "}\n",
    "\n",
    "layer {\n",
    "  name: \"relu_3\"\n",
    "  type: \"ReLU\"\n",
    "  bottom: \"dense_1\"\n",
    "  top: \"dense_1\" # inplace computation\n",
    "}\n",
    "\n",
    "layer {\n",
    "  name: \"dropout_2\"\n",
    "  type: \"Dropout\"\n",
    "  bottom: \"dense_1\"\n",
    "  top: \"dropout_2\"\n",
    "}\n",
    "\n",
    "layer {\n",
    "  name: \"dense_2\"\n",
    "  type: \"InnerProduct\"\n",
    "    inner_product_param {\n",
    "    num_output: 10\n",
    "\n",
    "  }\n",
    "\n",
    "  bottom: \"dropout_2\"\n",
    "  top: \"dense_2\"\n",
    "}\n",
    "layer {\n",
    "  name: \"prob\"\n",
    "  type: \"Softmax\"\n",
    "  bottom: \"dense_2\"\n",
    "  top: \"prob\"\n",
    "}\n"
   ]
  },
  {
   "cell_type": "markdown",
   "metadata": {},
   "source": [
    "Load the trained model and check that the inference is correct."
   ]
  },
  {
   "cell_type": "code",
   "execution_count": 6,
   "metadata": {},
   "outputs": [
    {
     "data": {
      "text/plain": [
       "OrderedDict([('data', <caffe._caffe.Blob at 0x7fcfbf777ea0>),\n",
       "             ('conv2d_1', <caffe._caffe.Blob at 0x7fcfbf777608>),\n",
       "             ('max_pooling2d_1', <caffe._caffe.Blob at 0x7fcfbf777500>),\n",
       "             ('conv2d_2', <caffe._caffe.Blob at 0x7fcfbf777660>),\n",
       "             ('dropout_1', <caffe._caffe.Blob at 0x7fcfbf74b6b8>),\n",
       "             ('dense_1', <caffe._caffe.Blob at 0x7fcfbf74b7c0>),\n",
       "             ('dropout_2', <caffe._caffe.Blob at 0x7fcfbf74b710>),\n",
       "             ('dense_2', <caffe._caffe.Blob at 0x7fcfbf7b4768>),\n",
       "             ('prob', <caffe._caffe.Blob at 0x7fcfbf7b46b8>)])"
      ]
     },
     "execution_count": 6,
     "metadata": {},
     "output_type": "execute_result"
    }
   ],
   "source": [
    "model_def = 'example_caffe_mnist_model_deploy.prototxt'\n",
    "model_weights = 'mnist.caffemodel'\n",
    "deploy_net = caffe.Net(model_def,\n",
    "                       model_weights,\n",
    "                       caffe.TEST)\n",
    "deploy_net.blobs"
   ]
  },
  {
   "cell_type": "code",
   "execution_count": 14,
   "metadata": {},
   "outputs": [
    {
     "data": {
      "text/plain": [
       "7"
      ]
     },
     "execution_count": 14,
     "metadata": {},
     "output_type": "execute_result"
    }
   ],
   "source": [
    "deploy_net.blobs['data'].data[...] = seven\n",
    "output = deploy_net.forward()\n",
    "output['prob'][0].argmax()"
   ]
  },
  {
   "cell_type": "code",
   "execution_count": null,
   "metadata": {
    "collapsed": true
   },
   "outputs": [],
   "source": []
  },
  {
   "cell_type": "code",
   "execution_count": null,
   "metadata": {
    "collapsed": true
   },
   "outputs": [],
   "source": []
  }
 ],
 "metadata": {
  "kernelspec": {
   "display_name": "Python 3",
   "language": "python",
   "name": "python3"
  },
  "language_info": {
   "codemirror_mode": {
    "name": "ipython",
    "version": 3
   },
   "file_extension": ".py",
   "mimetype": "text/x-python",
   "name": "python",
   "nbconvert_exporter": "python",
   "pygments_lexer": "ipython3",
   "version": "3.6.2"
  }
 },
 "nbformat": 4,
 "nbformat_minor": 2
}
