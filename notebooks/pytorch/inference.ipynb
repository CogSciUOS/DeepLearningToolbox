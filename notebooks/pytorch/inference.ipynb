{
 "cells": [
  {
   "cell_type": "code",
   "execution_count": 1,
   "metadata": {
    "collapsed": true
   },
   "outputs": [],
   "source": [
    "import torch\n",
    "import torch.nn as nn\n",
    "import torch.nn.functional as F\n",
    "from torchvision import datasets, transforms\n",
    "from torch.autograd import Variable\n",
    "from collections import OrderedDict\n",
    "import numpy as np\n",
    "import matplotlib.pyplot as plt\n",
    "plt.rcParams['image.cmap'] = 'gray'\n",
    "%matplotlib inline"
   ]
  },
  {
   "cell_type": "markdown",
   "metadata": {},
   "source": [
    "Loading the data"
   ]
  },
  {
   "cell_type": "code",
   "execution_count": 2,
   "metadata": {},
   "outputs": [
    {
     "name": "stdout",
     "output_type": "stream",
     "text": [
      "CUDA: False\n"
     ]
    }
   ],
   "source": [
    "# input batch size for training (default: 64)\n",
    "batch_size = 64\n",
    "\n",
    "# input batch size for testing (default: 1000)\n",
    "test_batch_size = 1000\n",
    "\n",
    "# number of epochs to train (default: 10)\n",
    "epochs = 10\n",
    "\n",
    "# learning rate (default: 0.01)\n",
    "lr = 0.01\n",
    "\n",
    "# SGD momentum (default: 0.5)\n",
    "momentum = 0.5\n",
    "\n",
    "# disables CUDA training\n",
    "no_cuda = True\n",
    "\n",
    "# random seed (default: 1)\n",
    "seed = 1\n",
    "\n",
    "# how many batches to wait before logging training status\n",
    "log_interval = 10\n",
    "\n",
    "# Setting seed for reproducibility.\n",
    "torch.manual_seed(seed)\n",
    "\n",
    "cuda = not no_cuda and torch.cuda.is_available()\n",
    "print(\"CUDA: {}\".format(cuda))"
   ]
  },
  {
   "cell_type": "code",
   "execution_count": 3,
   "metadata": {},
   "outputs": [],
   "source": [
    "if cuda:\n",
    "    torch.cuda.manual_seed(seed)\n",
    "cudakwargs = {'num_workers': 1, 'pin_memory': True} if cuda else {}\n",
    "\n",
    "mnist_transform = transforms.Compose([\n",
    "    transforms.ToTensor(),\n",
    "    transforms.Normalize((0.1307,), (0.3081,)) # Precalcualted values.\n",
    "])\n",
    "\n",
    "train_set = datasets.MNIST(\n",
    "    root='data',\n",
    "    train=True,\n",
    "    transform=mnist_transform,\n",
    "    download=True,\n",
    ")\n",
    "\n",
    "test_set = datasets.MNIST(\n",
    "    root='data',\n",
    "    train=False,\n",
    "    transform=mnist_transform,\n",
    "    download=True,\n",
    ")\n",
    "\n",
    "train_loader = torch.utils.data.DataLoader(\n",
    "    dataset=train_set,\n",
    "    batch_size=batch_size,\n",
    "    shuffle=True,\n",
    "    **cudakwargs\n",
    ")\n",
    "\n",
    "test_loader = torch.utils.data.DataLoader(\n",
    "    dataset=test_set,\n",
    "    batch_size=test_batch_size,\n",
    "    shuffle=True,\n",
    "    **cudakwargs\n",
    ")\n"
   ]
  },
  {
   "cell_type": "code",
   "execution_count": 4,
   "metadata": {
    "collapsed": true
   },
   "outputs": [],
   "source": [
    "def test(model, loader):\n",
    "    model.eval()\n",
    "    test_loss = 0\n",
    "    correct = 0\n",
    "    for data, target in loader:\n",
    "        if cuda:\n",
    "            data, target = data.cuda(), target.cuda()\n",
    "        data, target = Variable(data, volatile=True), Variable(target)\n",
    "        output = model(data)\n",
    "        test_loss += F.cross_entropy(output, target).data[0]\n",
    "        pred = output.data.max(1)[1] # get the index of the max log-probability\n",
    "        correct += pred.eq(target.data).cpu().sum()\n",
    "\n",
    "    test_loss = test_loss\n",
    "    test_loss /= len(loader) # loss function already averages over batch size\n",
    "\n",
    "    print('\\nTest set: Average loss: {:.4f}, Accuracy: {}/{} ({:.0f}%)\\n'.format(\n",
    "        test_loss, correct, len(loader.dataset),\n",
    "        100. * correct / len(loader.dataset)))"
   ]
  },
  {
   "cell_type": "markdown",
   "metadata": {},
   "source": [
    "### Method 1\n",
    "If only the `state_dict` was saved, we still need the source code for the model."
   ]
  },
  {
   "cell_type": "code",
   "execution_count": 6,
   "metadata": {
    "collapsed": true
   },
   "outputs": [],
   "source": [
    "class Net(nn.Module):\n",
    "    def __init__(self):\n",
    "        super().__init__()\n",
    "        self.conv2d_1 = nn.Conv2d(1, 32, kernel_size=3)\n",
    "        self.conv2d_2 = nn.Conv2d(32, 32, kernel_size=3)\n",
    "        self.dense_1 = nn.Linear(3872, 64)\n",
    "        self.dense_2 = nn.Linear(64, 10)\n",
    "\n",
    "    def forward(self, x):\n",
    "        x = F.relu(F.max_pool2d(self.conv2d_1(x), kernel_size=2))\n",
    "        x = F.relu(self.conv2d_2(x))\n",
    "        x = F.dropout(x, training=self.training)\n",
    "        x = x.view(-1, 3872)\n",
    "        x = F.relu(self.dense_1(x))\n",
    "        x = F.dropout(x, training=self.training)\n",
    "        x = self.dense_2(x)\n",
    "        return F.log_softmax(x)"
   ]
  },
  {
   "cell_type": "code",
   "execution_count": 18,
   "metadata": {
    "collapsed": true
   },
   "outputs": [],
   "source": [
    "# Create the model.\n",
    "model = Net()"
   ]
  },
  {
   "cell_type": "code",
   "execution_count": 19,
   "metadata": {},
   "outputs": [],
   "source": [
    "model.load_state_dict(\n",
    "    torch.load('torch_mnist.pth')\n",
    ")"
   ]
  },
  {
   "cell_type": "code",
   "execution_count": 20,
   "metadata": {},
   "outputs": [
    {
     "name": "stdout",
     "output_type": "stream",
     "text": [
      "\n",
      "Test set: Average loss: 0.0856, Accuracy: 9732/10000 (97%)\n",
      "\n"
     ]
    }
   ],
   "source": [
    "test(model, test_loader)"
   ]
  },
  {
   "cell_type": "markdown",
   "metadata": {},
   "source": [
    "## Method 2\n",
    "If the model and the parameters were saved we should in theory just need to load one file. However, this will fail, if the `Net` class was not defined before.\n"
   ]
  },
  {
   "cell_type": "code",
   "execution_count": 7,
   "metadata": {},
   "outputs": [],
   "source": [
    "model = torch.load('torch_mnist.pth.tar')"
   ]
  },
  {
   "cell_type": "code",
   "execution_count": 8,
   "metadata": {},
   "outputs": [
    {
     "name": "stdout",
     "output_type": "stream",
     "text": [
      "\n",
      "Test set: Average loss: 0.0856, Accuracy: 9732/10000 (97%)\n",
      "\n"
     ]
    }
   ],
   "source": [
    "test(model, test_loader)"
   ]
  }
 ],
 "metadata": {
  "kernelspec": {
   "display_name": "Python 3",
   "language": "python",
   "name": "python3"
  },
  "language_info": {
   "codemirror_mode": {
    "name": "ipython",
    "version": 3
   },
   "file_extension": ".py",
   "mimetype": "text/x-python",
   "name": "python",
   "nbconvert_exporter": "python",
   "pygments_lexer": "ipython3",
   "version": "3.6.2"
  }
 },
 "nbformat": 4,
 "nbformat_minor": 2
}
